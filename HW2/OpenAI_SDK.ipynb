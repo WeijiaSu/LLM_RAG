{
 "cells": [
  {
   "cell_type": "code",
   "execution_count": 5,
   "metadata": {},
   "outputs": [],
   "source": [
    "from openai import AsyncOpenAI\n",
    "import asyncio\n",
    "from datetime import datetime\n",
    "\n",
    "api_key = os.getenv(\"OPENAI_API_KEY\")\n",
    "client = AsyncOpenAI(api_key=api_key)\n"
   ]
  },
  {
   "cell_type": "code",
   "execution_count": 7,
   "metadata": {},
   "outputs": [],
   "source": [
    "\n",
    "def chat_streaming(prompt, context):\n",
    "    # Construct the system prompt with context\n",
    "    system_prompt = f\"\"\"\n",
    "    You are an assistant trained to answer questions based on the following context:\n",
    "\n",
    "    <context>\n",
    "    {context}\n",
    "    </context>\n",
    "\n",
    "    Please respond clearly and accurately based on the context above.\n",
    "    \"\"\"\n",
    "\n",
    "    # Make the API call with streaming enabled\n",
    "    response = openai.ChatCompletion.create(\n",
    "        model=\"gpt-4\",\n",
    "        messages=[\n",
    "            {\"role\": \"system\", \"content\": system_prompt},\n",
    "            {\"role\": \"user\", \"content\": prompt},\n",
    "        ],\n",
    "        stream=True,  # Enable streaming\n",
    "    )\n",
    "\n",
    "    # Print each token as it's received\n",
    "    print(\"AI Response:\")\n",
    "    for chunk in response:\n",
    "        print(chunk.choices[0].delta.get(\"content\", \"\"), end=\"\", flush=True)\n",
    "    print(\"\\n\")  # Add a newline after the response\n"
   ]
  },
  {
   "cell_type": "code",
   "execution_count": null,
   "metadata": {},
   "outputs": [],
   "source": [
    "def main():\n",
    "    with open(\"train.text\", \"r\") as file:\n",
    "        context = file.read()\n",
    "\n",
    "    print(\"Welcome to the Stereo-seq X AI virtual assistant! Type 'exit' to quit.\")\n",
    "    while True:\n",
    "        user_input = input(\"> \")  # Get user input\n",
    "        if user_input.lower() in [\"exit\", \"quit\"]:\n",
    "            print(\"Goodbye!\")\n",
    "            break\n",
    "        chat_streaming(user_input, context)\n",
    "\n",
    "if __name__ == \"__main__\":\n",
    "    main()"
   ]
  },
  {
   "cell_type": "code",
   "execution_count": null,
   "metadata": {},
   "outputs": [],
   "source": []
  }
 ],
 "metadata": {
  "kernelspec": {
   "display_name": "chatbot_env",
   "language": "python",
   "name": "python3"
  },
  "language_info": {
   "codemirror_mode": {
    "name": "ipython",
    "version": 3
   },
   "file_extension": ".py",
   "mimetype": "text/x-python",
   "name": "python",
   "nbconvert_exporter": "python",
   "pygments_lexer": "ipython3",
   "version": "3.11.11"
  }
 },
 "nbformat": 4,
 "nbformat_minor": 2
}
