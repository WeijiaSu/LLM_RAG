{
 "cells": [
  {
   "cell_type": "code",
   "execution_count": 7,
   "metadata": {},
   "outputs": [
    {
     "data": {
      "text/plain": [
       "'/Users/weijiasu/Dropbox/Techlent.GenAI/HomeWork/LLM_RAG/HW2'"
      ]
     },
     "execution_count": 7,
     "metadata": {},
     "output_type": "execute_result"
    }
   ],
   "source": [
    "from bs4 import BeautifulSoup\n",
    "import requests\n",
    "import os\n",
    "\n",
    "os.chdir(\"./\")\n",
    "os.getcwd()"
   ]
  },
  {
   "cell_type": "code",
   "execution_count": 2,
   "metadata": {},
   "outputs": [],
   "source": [
    "\n",
    "# Base URL\n",
    "base_url = \"https://en.stomics.tech/\""
   ]
  },
  {
   "cell_type": "code",
   "execution_count": null,
   "metadata": {},
   "outputs": [
    {
     "name": "stdout",
     "output_type": "stream",
     "text": [
      "\n",
      "Links Found:\n",
      "https://en.stomics.tech/resources/software-archives.html\n",
      "https://www.stomics.tech/\n",
      "https://en.stomics.tech/products/Stereo-CITE-Solution/list.html\n",
      "https://en.stomics.tech/products/Stereo-seq-OMNI-FFPE-Solution/list.html\n",
      "https://en.stomics.tech/products/Stereo-seq-OMNI-FFPE-Solution/list.html\n",
      "https://en.stomics.tech/products/Stereo-seq-OMNI-FFPE-Solution/list.html\n",
      "https://en.stomics.tech/products/Stereo-seq-OMNI-FFPE-Solution/list.html\n",
      "https://en.stomics.tech/service/new-saw-operation-manual.html\n",
      "https://en.stomics.tech/service/new-saw-operation-manual.html\n",
      "https://en.stomics.tech/service/new-saw-operation-manual.html\n",
      "https://en.stomics.tech/service/stereoMap-operation-manual.html\n",
      "https://en.stomics.tech/service/stereoMap-operation-manual.html\n",
      "https://en.stomics.tech/service/stereoMap-operation-manual.html\n",
      "https://www.cell.com/cell/fulltext/S0092-8674(22)00399-3?_returnURL=https://linkinghub.elsevier.com/retrieve/pii/S0092867422003993?showall=true\n",
      "https://www.science.org/doi/10.1126/science.abp9444\n",
      "https://pubmed.ncbi.nlm.nih.gov/36131018/\n",
      "https://www.cell.com/developmental-cell/fulltext/S1534-5807(22)00251-9?_returnURL=https://linkinghub.elsevier.com/retrieve/pii/S1534580722002519?showall=true\n",
      "https://twitter.com/ST_Omics\n",
      "https://www.youtube.com/channel/UC_WcTfMWBf8oEJUKMDc4g1g\n",
      "https://www.linkedin.com/company/bgi-stomics/\n",
      "https://www.completegenomics.com/applications/spatial-transcriptomics/\n",
      "https://en.mgi-tech.com/\n",
      "https://twitter.com/ST_Omics\n",
      "https://www.youtube.com/channel/UC_WcTfMWBf8oEJUKMDc4g1g\n",
      "https://www.linkedin.com/company/bgi-stomics/\n",
      "https://twitter.com/ST_Omics\n",
      "https://www.youtube.com/channel/UC_WcTfMWBf8oEJUKMDc4g1g\n",
      "https://www.linkedin.com/company/bgi-stomics/\n",
      "https://www.completegenomics.com/applications/spatial-transcriptomics/\n",
      "https://en.mgi-tech.com/\n",
      "https://twitter.com/ST_Omics\n",
      "https://www.youtube.com/channel/UC_WcTfMWBf8oEJUKMDc4g1g\n",
      "https://www.linkedin.com/company/bgi-stomics/\n"
     ]
    }
   ],
   "source": [
    "response = requests.get(base_url)\n",
    "if response.status_code == 200:\n",
    "    soup = BeautifulSoup(response.content, \"html.parser\")\n",
    "    main_content = soup.get_text(separator=\"\\n\", strip=True)\n",
    "    links = [a['href'] for a in soup.find_all('a', href=True) if a['href'].startswith(\"http\")]\n",
    "    print(\"\\nLinks Found:\")\n",
    "    for link in links:\n",
    "        print(link)"
   ]
  },
  {
   "cell_type": "code",
   "execution_count": 8,
   "metadata": {},
   "outputs": [],
   "source": [
    "# Save main page content\n",
    "with open(\"main_page_content.txt\", \"w\") as file:\n",
    "    file.write(main_content)"
   ]
  },
  {
   "cell_type": "code",
   "execution_count": 9,
   "metadata": {},
   "outputs": [],
   "source": [
    "for link in links:\n",
    "        try:\n",
    "            sub_response = requests.get(link)\n",
    "            if sub_response.status_code == 200:\n",
    "                sub_soup = BeautifulSoup(sub_response.content, \"html.parser\")\n",
    "                sub_content = sub_soup.get_text(separator=\"\\n\", strip=True)\n",
    "                with open(f\"{link.split('/')[-1]}.txt\", \"w\") as sub_file:\n",
    "                    sub_file.write(sub_content)\n",
    "        except Exception as e:\n",
    "            print(f\"Error fetching {link}: {e}\")"
   ]
  },
  {
   "cell_type": "code",
   "execution_count": 10,
   "metadata": {},
   "outputs": [],
   "source": [
    "from selenium import webdriver\n",
    "from selenium.webdriver.common.by import By\n",
    "from selenium.webdriver.chrome.service import Service\n",
    "from bs4 import BeautifulSoup\n",
    "import time"
   ]
  }
 ],
 "metadata": {
  "kernelspec": {
   "display_name": "chatbot_env",
   "language": "python",
   "name": "python3"
  },
  "language_info": {
   "codemirror_mode": {
    "name": "ipython",
    "version": 3
   },
   "file_extension": ".py",
   "mimetype": "text/x-python",
   "name": "python",
   "nbconvert_exporter": "python",
   "pygments_lexer": "ipython3",
   "version": "3.11.11"
  }
 },
 "nbformat": 4,
 "nbformat_minor": 2
}
